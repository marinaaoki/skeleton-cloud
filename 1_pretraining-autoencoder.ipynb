{
 "cells": [
  {
   "cell_type": "markdown",
   "metadata": {},
   "source": [
    "## 1. Pre-training the Auto-Encoder\n",
    "\n",
    "In this notebook, we pre-train the auto-encoder for reconstruction. In their paper, Carr et al. define the motion encoder `E_M` and the privacy encoder `E_P`, which are implemented identically as described below.\n",
    "\n",
    "![Encoder Architecture](figures/encoder.png)\n",
    "\n",
    "Here, the input size 75 refers to the frame length `T` of each sequence of 3D coordinates in the dataset. The output of each encoder is a motion embedding and a privacy embedding respectively. The acronyms are defined using the Pytorch implementations:\n",
    "\n",
    "- C2D: Convolution 2D\n",
    "- LR: Leaky ReLU\n",
    "- Up: Upsample\n",
    "- MP: Max Pooling\n",
    "- RP2D: Reflection Pad 2D\n",
    "\n",
    "This stage includes 5 epochs of paired pre-training, followed by 20 epochs of unpaired pre-training."
   ]
  },
  {
   "cell_type": "markdown",
   "metadata": {},
   "source": [
    "### 1.1 Paired Pre-training\n",
    "\n",
    "In order to separate the embeddings, we first start by pre-training the auto-encoder in the paired setting for 5 epochs.\n",
    "\n",
    "#### 1.1.1 Paired Data Loading\n",
    "\n",
    "In the paired setting, the model is trained with \"carefully matched sets of skeleton motions\". We load the preprocessed paired samples of the NTU RGB+D dataset, where two distinct actors perform the same two actions under an identical camera view."
   ]
  },
  {
   "cell_type": "code",
   "execution_count": null,
   "metadata": {},
   "outputs": [],
   "source": []
  },
  {
   "cell_type": "code",
   "execution_count": null,
   "metadata": {},
   "outputs": [],
   "source": [
    "from sitc.models import AE\n",
    "\n",
    "ae = AE()"
   ]
  }
 ],
 "metadata": {
  "kernelspec": {
   "display_name": "Python 3",
   "language": "python",
   "name": "python3"
  },
  "language_info": {
   "name": "python",
   "version": "3.9.18"
  }
 },
 "nbformat": 4,
 "nbformat_minor": 2
}
