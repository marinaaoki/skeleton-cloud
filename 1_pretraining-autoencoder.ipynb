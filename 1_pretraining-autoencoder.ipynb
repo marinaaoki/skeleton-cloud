{
 "cells": [
  {
   "cell_type": "markdown",
   "metadata": {},
   "source": [
    "## 1. Pre-training the Auto-Encoder\n",
    "\n",
    "In this notebook, we pre-train the auto-encoder for reconstruction. In their paper, Carr et al. define the motion encoder `E_M` and the privacy encoder `E_P`, which are implemented identically as described below.\n",
    "\n",
    "![Encoder Architecture](figures/encoder.png)\n",
    "\n",
    "Here, the input size 75 refers to the frame length `T` of each sequence of 3D coordinates in the dataset. The output of each encoder is a motion embedding and a privacy embedding respectively. The acronyms are defined using the Pytorch implementations:\n",
    "\n",
    "- C2D: Convolution 2D\n",
    "- LR: Leaky ReLU\n",
    "- Up: Upsample\n",
    "- MP: Max Pooling\n",
    "- RP2D: Reflection Pad 2D\n",
    "\n",
    "This stage includes 5 epochs of paired pre-training, followed by 20 epochs of unpaired pre-training."
   ]
  },
  {
   "cell_type": "markdown",
   "metadata": {},
   "source": [
    "### 1.1 Paired Pre-training\n",
    "\n",
    "In order to separate the embeddings, we first start by pre-training the autoencoder in the paired setting for 5 epochs.\n",
    "\n",
    "In the paired setting, the model is trained with \"carefully matched sets of skeleton motions\".\n",
    "\n",
    "#### 1.1.1 Defining the dataset"
   ]
  },
  {
   "cell_type": "code",
   "execution_count": null,
   "metadata": {},
   "outputs": [],
   "source": [
    "from sitc.data.ntu60 import NTU60\n",
    "\n",
    "ntu60_dataset = NTU60(num_frames=75, paired=True)\n",
    "\n",
    "print(f\"==========\\nNTU 60 Dataset\\n==========\")\n",
    "print(f\"Number of samples: {len(ntu60_dataset)}\")\n",
    "print(f\"Number of frames: {ntu60_dataset.max_frames}\")\n",
    "print(f\"Number of joints: {ntu60_dataset.num_joints}\")"
   ]
  },
  {
   "cell_type": "code",
   "execution_count": null,
   "metadata": {},
   "outputs": [],
   "source": [
    "sample = ntu60_dataset[0]\n",
    "print(f\"Sample ID: {sample['name']}\")\n",
    "print(f\"Camera ID: {sample['camera']}\")\n",
    "print(f\"Action ID: {sample['action']}\")\n",
    "print(f\"Person ID: {sample['person']}\")\n",
    "print(f\"Paired sample ID: {sample['paired']}\")"
   ]
  },
  {
   "cell_type": "code",
   "execution_count": null,
   "metadata": {},
   "outputs": [],
   "source": [
    "sample['keypoints'][\"original\"].shape"
   ]
  },
  {
   "cell_type": "code",
   "execution_count": null,
   "metadata": {},
   "outputs": [],
   "source": [
    "sample[\"keypoints\"][\"dummy\"].shape"
   ]
  },
  {
   "cell_type": "code",
   "execution_count": null,
   "metadata": {},
   "outputs": [],
   "source": [
    "import torch\n",
    "\n",
    "train_dataloader = torch.utils.data.DataLoader(ntu60_dataset, batch_size=128, shuffle=True, num_workers=0, pin_memory=True)\n",
    "print(f\"Number of batches: {len(train_dataloader)}\")"
   ]
  },
  {
   "cell_type": "markdown",
   "metadata": {},
   "source": [
    "#### 1.1.2 Instantiating the Autoencoder"
   ]
  },
  {
   "cell_type": "code",
   "execution_count": null,
   "metadata": {},
   "outputs": [],
   "source": [
    "from sitc.models.autoencoder import PairedAE\n",
    "\n",
    "paired_ae = PairedAE()\n",
    "paired_ae.cuda()"
   ]
  },
  {
   "cell_type": "markdown",
   "metadata": {},
   "source": [
    "#### 1.1.3 Defining hyperparameters\n",
    "\n",
    "**Defining the cross-reconstruction loss**\n",
    "\n",
    "The loss is defined as\n",
    "\n",
    "$$L_{rec} = \\mathbb{E}_{\\mathbf{s_{a,p}},\\mathbf{s_{a',p'}}\\sim\\mathcal{S}}\\Bigl[||\\mathit{D}(\\mathit{E_M}(\\mathbf{s_{a,p}}), \\mathit{E_P}(\\mathbf{s_{a',p'}})) - \\mathbf{s_{a,p'}} ||^2\\Bigr]$$\n",
    "\n",
    "where $\\mathbf{s_{a,p}}$ serves as the original skeleton and $\\mathbf{s_{a',p'}}$ serves as the dummy skeleton."
   ]
  },
  {
   "cell_type": "code",
   "execution_count": null,
   "metadata": {},
   "outputs": [],
   "source": [
    "import torch.nn as nn\n",
    "\n",
    "class CrossReconstructionLoss(nn.Module):\n",
    "    def __init__(self):\n",
    "        super(CrossReconstructionLoss, self).__init__()\n",
    "    \n",
    "    def forward(self, orig_inputs, dummy_inputs, targets):\n",
    "        pass"
   ]
  },
  {
   "cell_type": "markdown",
   "metadata": {},
   "source": [
    "**Defining the triplet loss**\n",
    "\n",
    "This is to ensure the distinctness of embeddings by explicitly requiering the separation of two latent spaces encoded in $E_M$, $E_P$. It ensures motion embeddings are close in an embedding space while privacy embeddings are close in a distance embedding space.\n",
    "\n",
    "$$L_{trip} = \\mathbb{E}_{\\mathbf{s_{a,p}},\\mathbf{s_{a',p'}}\\sim\\mathcal{S}}\\Bigl[\\max(0, ||\\mathit{E_M}(\\mathbf{s}_{a,p}) - \\mathit{E_M}(\\mathbf{s}_{a',p})||^2 - ||\\mathit{E_M}(\\mathbf{s}_{a,p}) - \\mathit{E_M}(\\mathbf{s}_{a,p'})||^2 + \\gamma) + \\max(0, ||\\mathit{E_P}(\\mathbf{s}_{a,p}) - \\mathit{E_P}(\\mathbf{s}_{a',p})||^2 - ||\\mathit{E_P}(\\mathbf{s}_{a,p}) - \\mathit{E_P}(\\mathbf{s}_{a,p'})||^2 + \\gamma)\\Bigr]$$"
   ]
  },
  {
   "cell_type": "code",
   "execution_count": null,
   "metadata": {},
   "outputs": [],
   "source": [
    "class TripletLoss(nn.Module):\n",
    "    def __init__(self):\n",
    "        super(TripletLoss, self).__init__()\n",
    "    \n",
    "    def forward(self, orig_inputs, dummy_inputs, targets):\n",
    "        pass"
   ]
  },
  {
   "cell_type": "markdown",
   "metadata": {},
   "source": [
    "**Defining the latent consistency loss**\n",
    "\n",
    "This loss ensures the same action by different acrots has consistent motion embedding in the latent space. It also ensures the same actor performing different actions has consistent privacy embedding in the latent space.\n",
    "\n",
    "$$L_{latent} = \\mathbb{E}_{\\mathbf{s_{a,p}},\\mathbf{s_{a',p'}}\\sim\\mathcal{S}}\\Bigl[\\mathit{MSE}(\\mathit{E_M}(\\mathbf{s}_{a,p}), \\mathit{E_M}(\\mathbf{s}_{a,p'})) + \\mathit{MSE}(\\mathit{E_P}(\\mathbf{s}_{a,p}), \\mathit{E_P}(\\mathbf{s}_{a',p}))\\Bigr]$$\n",
    "\n",
    "where MSE denotes the mean-square error."
   ]
  },
  {
   "cell_type": "code",
   "execution_count": null,
   "metadata": {},
   "outputs": [],
   "source": [
    "class LatentConsistencyLoss(nn.Module):\n",
    "    def __init__(self):\n",
    "        super(LatentConsistencyLoss, self).__init__()\n",
    "    \n",
    "    def forward(self):\n",
    "        pass"
   ]
  },
  {
   "cell_type": "markdown",
   "metadata": {},
   "source": [
    "**Defining the end-effector loss**\n",
    "\n",
    "The end-effector loss is defined to handle the skeleton spacial size difference. The end-effectors of the original and the retargeted skeleton must have the same normalised velocity. This loss prevents foot sliding and ensures steady positioning when the original skeleton is still.\n",
    "\n",
    "\n",
    "$$L_{ee} = \\mathbb{E}_{\\mathbf{s}\\sim\\mathcal{S}}\\sum_{e\\in\\mathit{E}}|| \\frac{\\mathit{V}_{\\mathbf{s}_e} - \\mathit{V}_{\\mathbf{\\hat{s}}_e}}{\\mathit{h_e}} ||^2$$\n",
    "\n",
    "where $\\mathit{E}$ is the set of end effectors, $\\mathit{h_e}$ is the length of the kinematic chain for end effector $\\mathit{e}$, $\\mathit{V_{\\mathbb{s}_e}}$ is the velocity of the skeleton's end effector $e$ kinematic chain."
   ]
  },
  {
   "cell_type": "code",
   "execution_count": null,
   "metadata": {},
   "outputs": [],
   "source": [
    "class EELoss(nn.Module):\n",
    "    def __init__(self):\n",
    "        super(EELoss, self).__init__()\n",
    "\n",
    "    def forward(inputs, targets):\n",
    "        pass"
   ]
  },
  {
   "cell_type": "markdown",
   "metadata": {},
   "source": [
    "**Defining the total loss**\n",
    "\n",
    "The total loss for the autoencoder paired training is \n",
    "\n",
    "$$L_{paired} = L_{unpaired} + \\alpha_{cross}L_{cross} + \\alpha_{ee}L_{ee} + \\alpha_{trip}L_{trip} + \\alpha_{latent}L_{latent}$$\n",
    "\n",
    "where the hyperparameters are set to $\\alpha_{cross}=0.1$, $\\alpha_{ee}=1$, $\\alpha_{trip}=1$, $\\alpha_{latent}=10$."
   ]
  },
  {
   "cell_type": "code",
   "execution_count": null,
   "metadata": {},
   "outputs": [],
   "source": [
    "from sitc.training.loss_functions import AELoss\n",
    "\n",
    "class PairedAELoss(nn.Module):\n",
    "    def __init__(self, alpha_rec=2, alpha_smooth=3, alpha_cross=0.1, alpha_ee=1, alpha_triplet=1, alpha_latent=10):\n",
    "        super(PairedAELoss, self).__init__()\n",
    "        self.alpha_rec = alpha_rec\n",
    "        self.alpha_smooth = alpha_smooth\n",
    "        self.alpha_cross = alpha_cross\n",
    "        self.alpha_ee = alpha_ee\n",
    "        self.alpha_triplet = alpha_triplet\n",
    "        self.alpha_latent = alpha_latent\n",
    "    \n",
    "    def forward(self):\n",
    "        pass\n",
    "        \n",
    "loss_paired = PairedAELoss()"
   ]
  },
  {
   "cell_type": "markdown",
   "metadata": {},
   "source": [
    "**Defining the optimiser and LR scheduler**"
   ]
  },
  {
   "cell_type": "code",
   "execution_count": null,
   "metadata": {},
   "outputs": [],
   "source": [
    "optimiser = torch.optim.Adam(paired_ae.parameters(), lr=0.001)\n",
    "scheduler = torch.optim.lr_scheduler.StepLR(optimiser, step_size=50, gamma=0.5)"
   ]
  },
  {
   "cell_type": "markdown",
   "metadata": {},
   "source": [
    "#### 1.1.4 Training the model"
   ]
  },
  {
   "cell_type": "code",
   "execution_count": null,
   "metadata": {},
   "outputs": [],
   "source": [
    "import datetime \n",
    "\n",
    "now = datetime.datetime.now().strftime(\"%Y%m%d-%H%M%S\")\n",
    "\n",
    "num_epochs = 5\n",
    "train_loss_running = 0.\n",
    "best_loss = float('inf')\n",
    "\n",
    "for epoch in range(num_epochs):\n",
    "    for i, batch in enumerate(train_dataloader):\n",
    "\n",
    "        batch = NTU60.move_batch_to_device(batch, 'cuda')\n",
    "\n",
    "        optimiser.zero_grad()\n",
    "\n",
    "        orig_inputs = batch['keypoints'][\"original\"].float()\n",
    "        dummy_inputs = batch['keypoints'][\"dummy\"].float()\n",
    "        \n",
    "        outputs = paired_ae(orig_inputs, dummy_inputs)\n",
    "\n",
    "        # TODO: Define the cross-reconstruction loss\n",
    "\n",
    "\n",
    "        \n",
    "\n",
    "        loss = loss_fn(orig_inputs, dummy_inputs, outputs)\n",
    "\n",
    "        loss.backward()\n",
    "        optimiser.step()\n",
    "\n",
    "        train_loss_running += loss.item()\n",
    "        iteration = epoch * len(train_dataloader) + i\n",
    "\n",
    "        if iteration % 100 == 0:\n",
    "            train_loss = train_loss_running / 100\n",
    "            print(f\"Epoch {epoch}, Batch {i}, Loss: {train_loss}\")\n",
    "\n",
    "            if train_loss < best_loss:\n",
    "                #torch.save(ae.state_dict(), f\"sitc/runs/ae_pretraining_paired/model_best_{now}.ckpt\")\n",
    "                best_loss = train_loss\n",
    "\n",
    "            train_loss_running = 0.\n",
    "        \n",
    "        # TODO: add validation loop\n",
    "\n",
    "    scheduler.step()\n"
   ]
  },
  {
   "cell_type": "markdown",
   "metadata": {},
   "source": [
    "### 1.2 Unpaired Pre-training\n",
    "\n",
    "We further prime the models using unpaired pre-training for 20 epochs.\n",
    "\n",
    "#### 1.2.1 Defining the unpaired dataset"
   ]
  },
  {
   "cell_type": "code",
   "execution_count": 1,
   "metadata": {},
   "outputs": [
    {
     "name": "stdout",
     "output_type": "stream",
     "text": [
      "Jupyter environment detected. Enabling Open3D WebVisualizer.\n",
      "[Open3D INFO] WebRTC GUI backend enabled.\n",
      "[Open3D INFO] WebRTCWindowSystem: HTTP handshake server disabled.\n",
      "==========\n",
      "NTU 60 Dataset\n",
      "==========\n",
      "Number of total samples: 46231\n",
      "Number of train samples: 30757\n",
      "Number of test samples: 15474\n",
      "Number of frames: 75\n",
      "Number of joints: 25\n"
     ]
    }
   ],
   "source": [
    "from sitc.data.ntu60 import NTU60\n",
    "\n",
    "train_dataset = NTU60(num_frames=75)\n",
    "val_dataset = NTU60(num_frames=75, split='val')\n",
    "\n",
    "print(f\"==========\\nNTU 60 Dataset\\n==========\")\n",
    "print(f\"Number of total samples: {len(train_dataset) + len(val_dataset)}\")\n",
    "print(f\"Number of train samples: {len(train_dataset)}\")\n",
    "print(f\"Number of test samples: {len(val_dataset)}\")\n",
    "print(f\"Number of frames: {train_dataset.max_frames}\")\n",
    "print(f\"Number of joints: {train_dataset.num_joints}\")"
   ]
  },
  {
   "cell_type": "markdown",
   "metadata": {},
   "source": [
    "**Visualising the data**"
   ]
  },
  {
   "cell_type": "code",
   "execution_count": 2,
   "metadata": {},
   "outputs": [
    {
     "name": "stdout",
     "output_type": "stream",
     "text": [
      "Sample ID: S001C003P004R002A038\n",
      "Camera ID: 3\n",
      "Action ID: 38\n",
      "Person ID: 4\n"
     ]
    }
   ],
   "source": [
    "sample = train_dataset[0]\n",
    "print(f\"Sample ID: {sample['name']}\")\n",
    "print(f\"Camera ID: {sample['camera']}\")\n",
    "print(f\"Action ID: {sample['action']}\")\n",
    "print(f\"Person ID: {sample['person']}\")"
   ]
  },
  {
   "cell_type": "code",
   "execution_count": 3,
   "metadata": {},
   "outputs": [
    {
     "data": {
      "image/png": "[encoded data removed]",
      "text/plain": [
       "<Figure size 1000x1000 with 1 Axes>"
      ]
     },
     "metadata": {},
     "output_type": "display_data"
    }
   ],
   "source": [
    "from sitc.utils.visualisation import plot_point_cloud, plot_skeleton\n",
    "import matplotlib.pyplot as plt\n",
    "from matplotlib.animation import FuncAnimation\n",
    "\n",
    "keypoints = sample[\"keypoints\"]\n",
    "joints = keypoints[:, 0, :].T\n",
    "\n",
    "# I don't know why this crashes at the moment\n",
    "#plot_point_cloud(joints, train_dataset.lines)\n",
    "\n",
    "plot_skeleton(joints, train_dataset.lines)\n"
   ]
  },
  {
   "cell_type": "code",
   "execution_count": 4,
   "metadata": {},
   "outputs": [
    {
     "name": "stdout",
     "output_type": "stream",
     "text": [
      "Number of training batches: 241\n",
      "Number of validation batches: 121\n"
     ]
    }
   ],
   "source": [
    "import torch\n",
    "\n",
    "train_dataloader = torch.utils.data.DataLoader(train_dataset, batch_size=128, shuffle=True, num_workers=0, pin_memory=True)\n",
    "print(f\"Number of training batches: {len(train_dataloader)}\")\n",
    "\n",
    "val_dataloader = torch.utils.data.DataLoader(val_dataset, batch_size=128, shuffle=False, num_workers=0, pin_memory=True)\n",
    "print(f\"Number of validation batches: {len(val_dataloader)}\")"
   ]
  },
  {
   "cell_type": "markdown",
   "metadata": {},
   "source": [
    "#### 1.2.2 Instantiating the Autoencoder"
   ]
  },
  {
   "cell_type": "code",
   "execution_count": 5,
   "metadata": {},
   "outputs": [],
   "source": [
    "from sitc.models.autoencoder import AE\n",
    "\n",
    "ae = AE()"
   ]
  },
  {
   "cell_type": "markdown",
   "metadata": {},
   "source": [
    "#### 1.2.3 Defining hyperparameters"
   ]
  },
  {
   "cell_type": "markdown",
   "metadata": {},
   "source": [
    "**Defining the reconstruction loss**\n",
    "\n",
    "The loss is defined as\n",
    "\n",
    "$$L_{rec} = \\mathbb{E}_{\\mathbf{s}\\sim\\mathcal{S}}\\Bigl[||\\mathit{D}(\\mathit{E_M}(\\mathbf{s}), \\mathit{E_P}(\\mathbf{s})) - \\mathbf{s} ||^2\\Bigr]$$\n",
    "\n",
    "This is equivalent to the MSE loss."
   ]
  },
  {
   "cell_type": "code",
   "execution_count": 6,
   "metadata": {},
   "outputs": [],
   "source": [
    "from sitc.training.loss_functions import ReconstructionLoss\n",
    "\n",
    "loss_rec = ReconstructionLoss()"
   ]
  },
  {
   "cell_type": "markdown",
   "metadata": {},
   "source": [
    "**Defining the smooth loss**\n",
    "\n",
    "The smooth loss is defined as\n",
    "\n",
    "$$L_{smooth} = \\mathbb{E}_{\\mathbf{s}\\sim\\mathcal{S}}\\Biggl[\\frac{\\sqrt{\\sum_i^J|\\sum_j^T(\\hat{s}_{i,j}-\\hat{s}_{i,j+1})^2 - \\sum_j^T(\\mathbf{s}_{i,j}-\\mathbf{s}_{i,j+1}^2)}}{J\\times T}\\Biggr]$$"
   ]
  },
  {
   "cell_type": "code",
   "execution_count": 7,
   "metadata": {},
   "outputs": [],
   "source": [
    "from sitc.training.loss_functions import SmoothLoss\n",
    "\n",
    "loss_smooth = SmoothLoss()"
   ]
  },
  {
   "cell_type": "markdown",
   "metadata": {},
   "source": [
    "**Defining the total loss**\n",
    "\n",
    "The total loss for the autoencoder pre-training is\n",
    "\n",
    "$$L_{ae} = \\alpha_{rec}L_{rec} + \\alpha_{smooth}L_{smooth}$$\n",
    "\n",
    "where $\\alpha_{rec}$, $\\alpha_{smooth}$ are hyperparameters."
   ]
  },
  {
   "cell_type": "code",
   "execution_count": 8,
   "metadata": {},
   "outputs": [
    {
     "data": {
      "text/plain": [
       "AELoss()"
      ]
     },
     "execution_count": 8,
     "metadata": {},
     "output_type": "execute_result"
    }
   ],
   "source": [
    "from sitc.training.loss_functions import AELoss\n",
    "\n",
    "loss_unpaired = AELoss()\n",
    "loss_unpaired.to('cuda')"
   ]
  },
  {
   "cell_type": "markdown",
   "metadata": {},
   "source": [
    "**Defining the optimiser and LR scheduler**"
   ]
  },
  {
   "cell_type": "code",
   "execution_count": 9,
   "metadata": {},
   "outputs": [],
   "source": [
    "import torch \n",
    "\n",
    "optimiser = torch.optim.Adam(ae.parameters(), lr=0.001)\n",
    "scheduler = torch.optim.lr_scheduler.StepLR(optimiser, step_size=50, gamma=0.5)"
   ]
  },
  {
   "cell_type": "markdown",
   "metadata": {},
   "source": [
    "#### 1.1.4 Training"
   ]
  },
  {
   "cell_type": "code",
   "execution_count": 11,
   "metadata": {},
   "outputs": [
    {
     "name": "stdout",
     "output_type": "stream",
     "text": [
      "Epoch 0, Batch 99, Loss: 0.3032335093617439\n",
      "Epoch 0, Batch 199, Loss: 0.3041948063671589\n",
      "Validation Loss: 0.317362121806657\n",
      "Epoch 1, Batch 58, Loss: 0.2963970799744129\n",
      "Epoch 1, Batch 158, Loss: 0.2933939203619957\n",
      "Validation Loss: 0.29089975812711005\n",
      "Epoch 2, Batch 17, Loss: 0.3465580993890762\n",
      "Epoch 2, Batch 117, Loss: 0.22264556527137758\n",
      "Epoch 2, Batch 217, Loss: 0.23112627893686294\n",
      "Validation Loss: 0.25691879645359417\n",
      "Epoch 3, Batch 76, Loss: 0.22925200968980788\n",
      "Epoch 3, Batch 176, Loss: 0.1858799535036087\n",
      "Validation Loss: 0.16708052084465658\n",
      "Epoch 4, Batch 35, Loss: 0.16598355576395987\n",
      "Epoch 4, Batch 135, Loss: 0.14287536047399044\n",
      "Epoch 4, Batch 235, Loss: 0.11221318982541562\n",
      "Validation Loss: 0.10855973518091785\n",
      "Epoch 5, Batch 94, Loss: 0.09944419167935849\n",
      "Epoch 5, Batch 194, Loss: 0.0980613461881876\n",
      "Validation Loss: 0.08852383155714381\n",
      "Epoch 6, Batch 53, Loss: 0.09394813872873783\n",
      "Epoch 6, Batch 153, Loss: 0.0914588363468647\n",
      "Validation Loss: 0.09263753558485961\n",
      "Epoch 7, Batch 12, Loss: 0.09026650503277779\n",
      "Epoch 7, Batch 112, Loss: 0.08902902856469154\n",
      "Epoch 7, Batch 212, Loss: 0.08143631801009178\n",
      "Validation Loss: 0.07483941913882564\n",
      "Epoch 8, Batch 71, Loss: 0.07554994136095047\n",
      "Epoch 8, Batch 171, Loss: 0.07319494407624007\n",
      "Validation Loss: 0.06647632812911813\n",
      "Epoch 9, Batch 30, Loss: 0.06745416164398194\n",
      "Epoch 9, Batch 130, Loss: 0.06522481426596642\n",
      "Epoch 9, Batch 230, Loss: 0.06290320992469788\n",
      "Validation Loss: 0.06096893792186887\n",
      "Epoch 10, Batch 89, Loss: 0.06047475378960371\n",
      "Epoch 10, Batch 189, Loss: 0.06367779489606619\n",
      "Validation Loss: 0.06195278361070255\n",
      "Epoch 11, Batch 48, Loss: 0.0584439866617322\n",
      "Epoch 11, Batch 148, Loss: 0.05716555949300527\n",
      "Validation Loss: 0.058992026235200154\n",
      "Epoch 12, Batch 7, Loss: 0.05639339435845613\n",
      "Epoch 12, Batch 107, Loss: 0.055226766355335716\n",
      "Epoch 12, Batch 207, Loss: 0.05544586811214686\n",
      "Validation Loss: 0.05115788599306887\n",
      "Epoch 13, Batch 66, Loss: 0.0551125692948699\n",
      "Epoch 13, Batch 166, Loss: 0.052351415529847144\n",
      "Validation Loss: 0.06325196296222939\n",
      "Epoch 14, Batch 25, Loss: 0.052161651588976385\n",
      "Epoch 14, Batch 125, Loss: 0.05283745124936104\n",
      "Epoch 14, Batch 225, Loss: 0.051342595405876636\n",
      "Validation Loss: 0.04935900790016513\n",
      "Epoch 15, Batch 84, Loss: 0.050464127250015735\n",
      "Epoch 15, Batch 184, Loss: 0.049324550516903404\n",
      "Validation Loss: 0.04572134461900419\n",
      "Epoch 16, Batch 43, Loss: 0.04998790971934795\n",
      "Epoch 16, Batch 143, Loss: 0.04830681849271059\n",
      "Validation Loss: 0.04779206561155556\n",
      "Epoch 17, Batch 2, Loss: 0.04801664516329765\n",
      "Epoch 17, Batch 102, Loss: 0.04836706507951021\n",
      "Epoch 17, Batch 202, Loss: 0.04709661986678839\n",
      "Validation Loss: 0.05016705239853583\n",
      "Epoch 18, Batch 61, Loss: 0.04766725938767195\n",
      "Epoch 18, Batch 161, Loss: 0.046332964934408666\n",
      "Validation Loss: 0.04764062175450246\n",
      "Epoch 19, Batch 20, Loss: 0.04602412573993206\n",
      "Epoch 19, Batch 120, Loss: 0.045946011506021026\n",
      "Epoch 19, Batch 220, Loss: 0.04517463736236096\n",
      "Validation Loss: 0.04182310476283396\n"
     ]
    }
   ],
   "source": [
    "import datetime \n",
    "\n",
    "now = datetime.datetime.now().strftime(\"%Y%m%d-%H%M%S\")\n",
    "\n",
    "num_epochs = 20\n",
    "loss_running = 0.\n",
    "best_loss = float('inf')\n",
    "\n",
    "# move the model to the GPU\n",
    "ae.cuda()\n",
    "\n",
    "for epoch in range(num_epochs):\n",
    "    ae.train(True)\n",
    "\n",
    "    for i, batch in enumerate(train_dataloader):\n",
    "\n",
    "        batch = NTU60.move_batch_to_device(batch, 'cuda')\n",
    "\n",
    "        optimiser.zero_grad()\n",
    "\n",
    "        inputs = batch['keypoints'].float()\n",
    "\n",
    "        outputs = ae(inputs)\n",
    "\n",
    "        loss = loss_unpaired(inputs, outputs)\n",
    "\n",
    "        loss.backward()\n",
    "        optimiser.step()\n",
    "        \n",
    "        loss_running += loss.item()\n",
    "        iteration = epoch * len(train_dataloader) + i\n",
    "\n",
    "        if iteration % 100 == 99:\n",
    "            train_loss = loss_running / 100\n",
    "            print(f\"Epoch {epoch}, Batch {i}, Loss: {train_loss}\")\n",
    "\n",
    "            loss_running = 0.\n",
    "\n",
    "    \n",
    "    vloss_running = 0.\n",
    "    ae.eval()\n",
    "\n",
    "    with torch.no_grad():\n",
    "        for i, batch in enumerate(val_dataloader):\n",
    "\n",
    "            batch = NTU60.move_batch_to_device(batch, 'cuda')\n",
    "\n",
    "            vinputs = batch['keypoints'].float()\n",
    "\n",
    "            voutputs = ae(vinputs)\n",
    "\n",
    "            vloss = loss_unpaired(vinputs, voutputs)\n",
    "\n",
    "            vloss_running += vloss.item()\n",
    "            \n",
    "    avg_vloss = vloss_running / (i+1)\n",
    "    print(f\"Validation Loss: {avg_vloss}\")\n",
    "\n",
    "    if avg_vloss < best_loss:\n",
    "        torch.save(ae.state_dict(), f\"sitc/runs/ae_pretraining_unpaired/model_best_{now}_epoch{epoch}.ckpt\")\n",
    "        best_loss = avg_vloss\n",
    "\n",
    "\n",
    "    scheduler.step()\n"
   ]
  }
 ],
 "metadata": {
  "kernelspec": {
   "display_name": "Python 3",
   "language": "python",
   "name": "python3"
  },
  "language_info": {
   "codemirror_mode": {
    "name": "ipython",
    "version": 3
   },
   "file_extension": ".py",
   "mimetype": "text/x-python",
   "name": "python",
   "nbconvert_exporter": "python",
   "pygments_lexer": "ipython3",
   "version": "3.9.18"
  }
 },
 "nbformat": 4,
 "nbformat_minor": 2
}
